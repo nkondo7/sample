{
  "nbformat": 4,
  "nbformat_minor": 0,
  "metadata": {
    "colab": {
      "provenance": [],
      "toc_visible": true,
      "authorship_tag": "ABX9TyMXT1zyvMLiaGqDck92dcEn",
      "include_colab_link": true
    },
    "kernelspec": {
      "name": "python3",
      "display_name": "Python 3"
    },
    "language_info": {
      "name": "python"
    }
  },
  "cells": [
    {
      "cell_type": "markdown",
      "metadata": {
        "id": "view-in-github",
        "colab_type": "text"
      },
      "source": [
        "<a href=\"https://colab.research.google.com/github/nkondo7/sample/blob/main/%E7%B7%B4%E7%BF%92%E7%94%A8%E3%81%AEPython%E3%82%B3%E3%83%BC%E3%83%89%E3%82%B5%E3%83%B3%E3%83%97%E3%83%AB1.ipynb\" target=\"_parent\"><img src=\"https://colab.research.google.com/assets/colab-badge.svg\" alt=\"Open In Colab\"/></a>"
      ]
    },
    {
      "cell_type": "markdown",
      "source": [
        "# (1) 四則演算"
      ],
      "metadata": {
        "id": "Cxfe_4f_MFSJ"
      }
    },
    {
      "cell_type": "markdown",
      "source": [
        "四則演算の利用"
      ],
      "metadata": {
        "id": "STk_bTuQOIGP"
      }
    },
    {
      "cell_type": "code",
      "execution_count": null,
      "metadata": {
        "id": "VJ5x03ScIdlC",
        "colab": {
          "base_uri": "https://localhost:8080/"
        },
        "outputId": "1eee4001-790a-4f6f-b3c1-bfd82fa9bfad"
      },
      "outputs": [
        {
          "output_type": "execute_result",
          "data": {
            "text/plain": [
              "3"
            ]
          },
          "metadata": {},
          "execution_count": 1
        }
      ],
      "source": [
        "1 + 2"
      ]
    },
    {
      "cell_type": "markdown",
      "source": [
        "四則演算のための演算子"
      ],
      "metadata": {
        "id": "o-2dGG0kOJ4I"
      }
    },
    {
      "cell_type": "code",
      "execution_count": null,
      "metadata": {
        "id": "5Mi8YRUtIdlF",
        "colab": {
          "base_uri": "https://localhost:8080/"
        },
        "outputId": "7bcbbb45-bde8-41fb-d61b-f2f8d193a8d8"
      },
      "outputs": [
        {
          "output_type": "execute_result",
          "data": {
            "text/plain": [
              "0.6"
            ]
          },
          "metadata": {},
          "execution_count": 2
        }
      ],
      "source": [
        "(1 + 2 * 3 - 4) / 5"
      ]
    },
    {
      "cell_type": "code",
      "execution_count": null,
      "metadata": {
        "id": "xu7W2p26IdlG"
      },
      "outputs": [],
      "source": [
        "2**8"
      ]
    },
    {
      "cell_type": "markdown",
      "source": [
        "# (2) 変数"
      ],
      "metadata": {
        "id": "I0Xayn7nM5Xf"
      }
    },
    {
      "cell_type": "markdown",
      "source": [
        "変数を利用した計算"
      ],
      "metadata": {
        "id": "GUSJupgZOMrN"
      }
    },
    {
      "cell_type": "code",
      "execution_count": null,
      "metadata": {
        "id": "004PdJYZIdlG",
        "colab": {
          "base_uri": "https://localhost:8080/"
        },
        "outputId": "1cc6490d-6f99-479b-f36e-8fd104e26606"
      },
      "outputs": [
        {
          "output_type": "execute_result",
          "data": {
            "text/plain": [
              "1.3333333333333333"
            ]
          },
          "metadata": {},
          "execution_count": 3
        }
      ],
      "source": [
        "x = 1\n",
        "y = 1 / 3\n",
        "x + y"
      ]
    },
    {
      "cell_type": "markdown",
      "source": [
        "変数名の表記"
      ],
      "metadata": {
        "id": "UEBZeOqTOPoO"
      }
    },
    {
      "cell_type": "code",
      "execution_count": null,
      "metadata": {
        "id": "VaqdjzVKIdlH"
      },
      "outputs": [],
      "source": [
        "Data_1 = 1 / 5\n",
        "Data_2 = 3 / 5\n",
        "Data_1 + Data_2"
      ]
    },
    {
      "cell_type": "markdown",
      "source": [
        "# (3) 型"
      ],
      "metadata": {
        "id": "ZWsvzAaTM9hd"
      }
    },
    {
      "cell_type": "markdown",
      "source": [
        "型の調査"
      ],
      "metadata": {
        "id": "53gJ8GnROccd"
      }
    },
    {
      "cell_type": "code",
      "execution_count": null,
      "metadata": {
        "id": "WwC78NjRIdlH"
      },
      "outputs": [],
      "source": [
        "type(100)"
      ]
    },
    {
      "cell_type": "code",
      "execution_count": null,
      "metadata": {
        "id": "0g5xTWfsIdlH"
      },
      "outputs": [],
      "source": [
        "type(100.1)"
      ]
    },
    {
      "cell_type": "code",
      "execution_count": null,
      "metadata": {
        "id": "hanqUJ9zIdlI"
      },
      "outputs": [],
      "source": [
        "x = 100\n",
        "type(x) "
      ]
    },
    {
      "cell_type": "code",
      "execution_count": null,
      "metadata": {
        "id": "JM1950KaIdlI"
      },
      "outputs": [],
      "source": [
        "x = 100.1\n",
        "type(x) "
      ]
    },
    {
      "cell_type": "markdown",
      "source": [
        "文字列"
      ],
      "metadata": {
        "id": "UMMFUWKaOfkb"
      }
    },
    {
      "cell_type": "code",
      "execution_count": null,
      "metadata": {
        "id": "ZRjGB_PQIdlJ"
      },
      "outputs": [],
      "source": [
        "x = 'learning'\n",
        "type(x)"
      ]
    },
    {
      "cell_type": "markdown",
      "source": [
        "# (4) print文"
      ],
      "metadata": {
        "id": "XoObIHVvND4m"
      }
    },
    {
      "cell_type": "markdown",
      "source": [
        "print文の利用"
      ],
      "metadata": {
        "id": "Vcktc0SGOhY4"
      }
    },
    {
      "cell_type": "code",
      "execution_count": null,
      "metadata": {
        "id": "fKbINXnkIdlJ"
      },
      "outputs": [],
      "source": [
        "x = 1 / 3\n",
        "x\n",
        "y = 2 / 3\n",
        "y"
      ]
    },
    {
      "cell_type": "code",
      "execution_count": null,
      "metadata": {
        "id": "MyVWP80JIdlK"
      },
      "outputs": [],
      "source": [
        "x = 1 / 3\n",
        "print(x)\n",
        "y = 2 / 3\n",
        "print(y)"
      ]
    },
    {
      "cell_type": "markdown",
      "source": [
        "文字列と組み合わせた数値の表示"
      ],
      "metadata": {
        "id": "kgtibcRGOkA6"
      }
    },
    {
      "cell_type": "code",
      "execution_count": null,
      "metadata": {
        "id": "z03GXUk6IdlK"
      },
      "outputs": [],
      "source": [
        "print('x= ' + str(x))"
      ]
    },
    {
      "cell_type": "code",
      "execution_count": null,
      "metadata": {
        "id": "68wt7RfEIdlK"
      },
      "outputs": [],
      "source": [
        "print('weight = {0} kg'.format(x))"
      ]
    },
    {
      "cell_type": "code",
      "execution_count": null,
      "metadata": {
        "id": "5UpI-DttIdlK"
      },
      "outputs": [],
      "source": [
        "x = 1 / 3\n",
        "y = 1 / 7\n",
        "z = 1 / 4\n",
        "print('weight: {0} kg, {1} kg,  {2} kg'.format(x, y, z))"
      ]
    },
    {
      "cell_type": "code",
      "execution_count": null,
      "metadata": {
        "id": "YN0lTV32IdlK"
      },
      "outputs": [],
      "source": [
        "print('weight: {0:.2f} kg, y={1:.2f} kg,  z={2:.2f} kg'.format(x,y,z))"
      ]
    },
    {
      "cell_type": "markdown",
      "source": [
        "# (5) list（リスト、配列変数）"
      ],
      "metadata": {
        "id": "zmTrbUMqNSFC"
      }
    },
    {
      "cell_type": "markdown",
      "source": [
        "listの利用"
      ],
      "metadata": {
        "id": "_nZlhwbFOn7m"
      }
    },
    {
      "cell_type": "code",
      "execution_count": null,
      "metadata": {
        "id": "0M5BeQ67IdlL"
      },
      "outputs": [],
      "source": [
        "x = [1, 1, 2, 3, 5] # list の定義\n",
        "print(x) # 表示"
      ]
    },
    {
      "cell_type": "code",
      "execution_count": null,
      "metadata": {
        "id": "-z77s0wrIdlL"
      },
      "outputs": [],
      "source": [
        "x[0]"
      ]
    },
    {
      "cell_type": "code",
      "execution_count": null,
      "metadata": {
        "id": "_jm2HGPpIdlL"
      },
      "outputs": [],
      "source": [
        "x[2]"
      ]
    },
    {
      "cell_type": "code",
      "execution_count": null,
      "metadata": {
        "id": "zpezPrWPIdlL"
      },
      "outputs": [],
      "source": [
        "print(type(x))\n",
        "print(type(x[0]))"
      ]
    },
    {
      "cell_type": "code",
      "source": [
        "s = ['SUN', 1, 'MON', 2]"
      ],
      "metadata": {
        "id": "2M8xivSmNpuU"
      },
      "execution_count": null,
      "outputs": []
    },
    {
      "cell_type": "code",
      "execution_count": null,
      "metadata": {
        "id": "k_olR-NGIdlM"
      },
      "outputs": [],
      "source": [
        "print(type(s[0]))\n",
        "print(type(s[1]))"
      ]
    },
    {
      "cell_type": "code",
      "execution_count": null,
      "metadata": {
        "id": "_h-Q_PLcIdlM"
      },
      "outputs": [],
      "source": [
        "x=[1, 1, 2, 3, 5]\n",
        "x[3] = 100\n",
        "print(x)"
      ]
    },
    {
      "cell_type": "code",
      "execution_count": null,
      "metadata": {
        "id": "aOgtaUHOIdlM"
      },
      "outputs": [],
      "source": [
        "x=[1, 1, 2, 3, 5]\n",
        "len(x) "
      ]
    },
    {
      "cell_type": "markdown",
      "source": [
        "2次元の配列"
      ],
      "metadata": {
        "id": "D1qtNIyEOEx8"
      }
    },
    {
      "cell_type": "code",
      "execution_count": null,
      "metadata": {
        "id": "96XhgKjQIdlM"
      },
      "outputs": [],
      "source": [
        "a=[[1, 2, 3], [4, 5, 6]]\n",
        "print(a)"
      ]
    },
    {
      "cell_type": "code",
      "execution_count": null,
      "metadata": {
        "id": "PLsR7IB_IdlM"
      },
      "outputs": [],
      "source": [
        "a=[[1, 2, 3], [4, 5, 6]]\n",
        "print(a[0][1])"
      ]
    },
    {
      "cell_type": "markdown",
      "source": [
        "連続した整数の配列の作成"
      ],
      "metadata": {
        "id": "86qUHce-OsEf"
      }
    },
    {
      "cell_type": "code",
      "execution_count": null,
      "metadata": {
        "id": "INKa3Lr0IdlM"
      },
      "outputs": [],
      "source": [
        "y = range(5, 10)\n",
        "print(y[0], y[1], y[2], y[3], y[4])"
      ]
    },
    {
      "cell_type": "code",
      "source": [
        "type(y)"
      ],
      "metadata": {
        "id": "RzIMlrCmI7Wd"
      },
      "execution_count": null,
      "outputs": []
    },
    {
      "cell_type": "code",
      "execution_count": null,
      "metadata": {
        "id": "S-Nt0Ia5IdlM"
      },
      "outputs": [],
      "source": [
        "print(y)"
      ]
    },
    {
      "cell_type": "code",
      "execution_count": null,
      "metadata": {
        "id": "LYBPcB1kIdlN"
      },
      "outputs": [],
      "source": [
        "z = list(range(5, 10))\n",
        "print(z)"
      ]
    },
    {
      "cell_type": "code",
      "execution_count": null,
      "metadata": {
        "id": "qhiHjplWIdlN"
      },
      "outputs": [],
      "source": [
        "list(range(10))"
      ]
    },
    {
      "cell_type": "markdown",
      "source": [
        "# (6) if文"
      ],
      "metadata": {
        "id": "eLvXVwc5O37_"
      }
    },
    {
      "cell_type": "code",
      "execution_count": null,
      "metadata": {
        "id": "Dro7-L5RIdlN"
      },
      "outputs": [],
      "source": [
        "x = 11\n",
        "if x > 10:\n",
        "    print('x is ')                   # ... (A1)\n",
        "    print('       larger than 10.')  # ... (A2)\n",
        "else:\n",
        "    print('x is smaller than 11')    # ... (B1)"
      ]
    },
    {
      "cell_type": "code",
      "execution_count": null,
      "metadata": {
        "id": "_BSEjtccIdlN"
      },
      "outputs": [],
      "source": [
        "x > 10"
      ]
    },
    {
      "cell_type": "code",
      "execution_count": null,
      "metadata": {
        "id": "l0QtyaRfIdlO"
      },
      "outputs": [],
      "source": [
        "type(x > 10)"
      ]
    },
    {
      "cell_type": "markdown",
      "source": [
        "比較演算子"
      ],
      "metadata": {
        "id": "h8zLKmanPQgI"
      }
    },
    {
      "cell_type": "code",
      "execution_count": null,
      "metadata": {
        "id": "Grc_TK50IdlO"
      },
      "outputs": [],
      "source": [
        "x = 15\n",
        "if 10 <= x and x <= 20:\n",
        "    print('x is between 10 and 20.')"
      ]
    },
    {
      "cell_type": "markdown",
      "source": [
        "# (7) for文"
      ],
      "metadata": {
        "id": "AaPxA7RDPUes"
      }
    },
    {
      "cell_type": "markdown",
      "source": [
        "for文の利用"
      ],
      "metadata": {
        "id": "TCm1VPFaPWia"
      }
    },
    {
      "cell_type": "code",
      "execution_count": null,
      "metadata": {
        "id": "HiRA8vl7IdlO"
      },
      "outputs": [],
      "source": [
        "for i in [1, 2, 3]:\n",
        "    print(i)"
      ]
    },
    {
      "cell_type": "code",
      "execution_count": null,
      "metadata": {
        "id": "rpiMq9qSIdlO"
      },
      "outputs": [],
      "source": [
        "num = [2, 4, 6, 8, 10]\n",
        "for i in range(len(num)):\n",
        "    num[i] = num[i] * 2\n",
        "print(num)"
      ]
    }
  ]
}